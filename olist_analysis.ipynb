{
 "cells": [
  {
   "cell_type": "markdown",
   "id": "96121169",
   "metadata": {},
   "source": [
    "# [Work in Progress] Análise - Dataset de pedidos da Olist\n",
    "\n",
    "## 0. Overview\n",
    "\n",
    "Este notebook traz a análise dos dados presentes no dataset de pedidos fornecido pela Olist, uma plataforma de vendas no ambiente digital que tem por objetivo empoderar pequenos, médios e grandes empreendedores. A Olist fica responsável por manter os produtos dos clientes nos marketplaces e também pela entrega dos produtos, oferecendo, também, soluções para garantir a competitividade dos clientes no ecommerce. Em resumo, quando o consumidor acessa a página de um produto de um clinte da Olist em algum marketplace, o nome da Olist irá aparecer lá.\n",
    "\n",
    "A receita da Olist vem, em boa parte, por meio da assinatura de planos que estabelecem a relação entre ela e o cliente. Auxiliando na precificação, análise de competitividade, presença online e logística, a Olist cobra um preço fixo mensal e uma taxa de comissão por produto vendido. Desse modo, o aumento da receita da Olist depende da quantidade de clientes ativos e da receita proveniente de anúncios da Olist de cada um deles.\n",
    "\n",
    "Dado o modelo de negócio da empresa, alguns pontos podem ser levantados:\n",
    "\n",
    "- **A reputação da Olist nos marketplaces é fundamental para sua receita.** Por exemplo, caso um cliente grande passe a enviar produtos que tragam avaliações ruins, a pontuação da Olist nos marketplaces poderá ser comprometida, o que pode afetar as vendas e afastar possíveis clientes, afetando sua receita.\n",
    "- **A Olist precisa usar os dados que possui para melhorar não só sua estratégia, mas também a dos seus clientes.** Aproveitar o máximo do potencial de cada cliente pode auxiliar na retenção e também afeta diretamente a receita da empresa.\n",
    "- **O custo de aquisição de clientes possivelmente é alto, de modo que minimizar o churn é essencial.** No geral, o custo de aquisição de um cliente é substancialmente maior do que o custo de retenção. O tempo e esforço necessários para adquirir um cliente, fazer os trâmites legais, lidar com a burocracia e colocar seus produtos no marketplace devem ser valorizados, e a retenção de clientes precisa ser alta.\n",
    "\n",
    "## 1. Dataset\n",
    "\n",
    "O dataset está disponível no [Kaggle](https://www.kaggle.com/datasets/olistbr/brazilian-ecommerce) e consiste em cerca de 100000 pedidos feitos entre 2016 e 2018. Os dados estão em tabelas separadas, que trazem informações sobre os pedidos em si, a composição de produtos desses pedidos, os produtos, os clientes e sua localização, a avaliação dos pedidos e os vendedores. O dataset foi disponibilidade pelo Olist na plataforma, de modo que os dados possuem alta integridade.\n",
    "\n",
    "O esquema dos dados está disponível no Kaggle e a modelagem utilizada nas análises irá dependender do seu objetivo.\n",
    "\n",
    "## 2. Objetivo\n",
    "\n",
    "O objetivo da análise é:\n",
    "\n",
    "- Entender o que causa uma má avaliação de um pedido.\n",
    "- Entender clientes problemáticos e clientes churn.\n",
    "- Segmentar os consumidores da Olist em geral quanto às suas preferências de compra (categorias de produto, ticket médio, etc) e sua localização com o intuito de verificar potenciais clientes para loyalty.\n",
    "- Segmentar os consumidores de grandes clientes da Olist com o mesmo intuito.\n",
    "- Buscar clientes churn da Olist e entender possíveis causas.\n",
    "\n",
    "## 3. Análise dos Pedidos mal avaliados\n",
    "\n",
    "Para cada pedido registrado há uma avaliação atrelada que contém, ao menos, uma nota de 1 a 5, podendo conter, também, um comentário. A existência de uma nota para cada pedido pode implicar, por si só, em um viés nos dados, pois nem todos os clientes avaliam os produtos que compram (eu mesmo, raramente faço isso). Dessa forma, é importante notar que uma boa parcela de informação não está disponível para análise, ou seja, os pedidos não avaliados. Ainda assim, os dados disponíveis são muito úteis para entender o que afeta a avaliação dos pedidos.\n",
    "\n",
    "Inicialmente, iremos analisar a distibuição de notas de reviews dos pedidos."
   ]
  },
  {
   "cell_type": "code",
   "execution_count": 3,
   "id": "e7edc803",
   "metadata": {},
   "outputs": [],
   "source": [
    "# Célula com imports\n",
    "\n",
    "import pandas as pd\n",
    "import matplotlib.pyplot as plt\n",
    "import seaborn as sns\n",
    "import numpy as np\n",
    "from tqdm import tqdm\n",
    "import math\n",
    "from viz_tb import * #biblioteca com funções de dataviz\n",
    "\n",
    "import warnings\n",
    "warnings.filterwarnings(\"ignore\")"
   ]
  },
  {
   "cell_type": "code",
   "execution_count": 4,
   "id": "95074e6b",
   "metadata": {},
   "outputs": [],
   "source": [
    "# Carregamento dos csv\n",
    "\n",
    "orders = pd.read_csv('data\\olist_orders_dataset.csv')\n",
    "items = pd.read_csv('data\\olist_order_items_dataset.csv')\n",
    "products = pd.read_csv('data\\olist_products_dataset.csv')\n",
    "customers = pd.read_csv('data\\olist_customers_dataset.csv')\n",
    "reviews = pd.read_csv('data\\olist_order_reviews_dataset.csv')\n",
    "sellers = pd.read_csv('data\\olist_sellers_dataset.csv')\n",
    "geo = pd.read_csv('data\\olist_geolocation_dataset.csv') \n",
    "\n",
    "orders_date_columns = ['order_purchase_timestamp','order_approved_at','order_delivered_carrier_date','order_delivered_customer_date',\n",
    "                'order_estimated_delivery_date']\n",
    "\n",
    "for col in orders_date_columns:\n",
    "    orders[col] = pd.to_datetime(orders[col])\n",
    "    \n",
    "reviews_date_columns = ['review_creation_date','review_answer_timestamp']\n",
    "\n",
    "for col in reviews_date_columns:\n",
    "    reviews[col] = pd.to_datetime(reviews[col])\n",
    "    \n",
    "items['shipping_limit_date'] = pd.to_datetime(items['shipping_limit_date'])"
   ]
  },
  {
   "cell_type": "code",
   "execution_count": 5,
   "id": "dfc0ffd0",
   "metadata": {
    "scrolled": false
   },
   "outputs": [
    {
     "data": {
      "image/png": "[encoded data removed]",
      "text/plain": [
       "<Figure size 640x480 with 1 Axes>"
      ]
     },
     "metadata": {},
     "output_type": "display_data"
    }
   ],
   "source": [
    "countplot2(reviews,'review_score')"
   ]
  },
  {
   "cell_type": "markdown",
   "id": "2e25ac2c",
   "metadata": {},
   "source": [
    "Percebe-se que a maior parte (57,8%) dos pedidos têm avaliação de 5 estrelas, e a frequência é cada vez menor até chegar às 2 estrelas. Para 1 estrela verifica-se uma maior ocorrência, cerca de 11,5% dos pedidos receberam essa avaliação.\n",
    "\n",
    "Por mais que os valores intermediários possam ser interpretados de diferentes maneiras, uma avaliação de 1 estrela possivelmente significa o fim do relacionamento com o cliente, enquanto uma avaliação de 5 estrelas pode ser um indicativo de que possivelmente o cliente irá comprar novamente no futuro.\n",
    "\n",
    "Um ponto interessante para entender os reviews é analisar \"manualmente\" avaliaçoes escritas de pedidos com diferentes avaliações. Para essa análise, será criado um dataframe unindo as tabelas de pedidos, itens dos pedidos, reviews dos pedidos, clientes, geolocalização dos clientes, produtos e vendedores."
   ]
  },
  {
   "cell_type": "markdown",
   "id": "a985b254",
   "metadata": {},
   "source": [
    "A feature *order_status* da tabela *orders* informa o status dos pedidos disponíveis no dataset. Iremos, na maior parte das análise, desconsiderar os pedidos que não foram entregues (menos de 3% do dataset)."
   ]
  },
  {
   "cell_type": "code",
   "execution_count": 6,
   "id": "3218ee02",
   "metadata": {},
   "outputs": [
    {
     "data": {
      "text/plain": [
       "delivered      0.970203\n",
       "shipped        0.011132\n",
       "canceled       0.006285\n",
       "unavailable    0.006124\n",
       "invoiced       0.003158\n",
       "processing     0.003027\n",
       "created        0.000050\n",
       "approved       0.000020\n",
       "Name: order_status, dtype: float64"
      ]
     },
     "execution_count": 6,
     "metadata": {},
     "output_type": "execute_result"
    }
   ],
   "source": [
    "orders['order_status'].value_counts(normalize=True)"
   ]
  },
  {
   "cell_type": "code",
   "execution_count": 7,
   "id": "04be1781",
   "metadata": {
    "scrolled": false
   },
   "outputs": [
    {
     "name": "stdout",
     "output_type": "stream",
     "text": [
      "Comentários nota 1\n",
      "- Sempre comprei nas Lojas lannister pela entrega ser rápida e desta vez nem recebi a mercadoria. Gostaria que tomassem uma atitude a respeito deste parceiro, para não denegrir a imagem das Lojas Ameri\n",
      "- demora na entrega do produto\r",
      " \n",
      "- Veio a fonte e quatro emissores mas o aparelho transmissor não veio \n",
      "- O cartucho que seria de alto rendimento, na verdade não durou mais que 100 impressões, a maioria em modo rascunho.\r",
      " Quando utilizo o cartucho 664xl original , ele dura em média o dobro.\n",
      "- Comprei 2 cartuchos\r",
      " \r",
      " Recebi apenas 1 cartucho\n",
      "- Recebi o produto com a base fixa da cadeira diferente da que esta no anuncio, só não devolvi a cadeira porque preciso com urgência. Não recomendo!\n",
      "- A capa veio danificada. Colada. Já abri reclamação e aguardo o reembolso do meu dinheiro.\n",
      "- comprei 5 kg de bicarbonato, mas foram entregues somente 3 pacotes de 1kg.\n",
      "\n",
      "\n",
      "Comentários nota 2\n",
      "- Produto se diz grande mas não cabe na criança !\n",
      "- Bom\n",
      "- No anuncio diz outra cor\n",
      "- Só recebi a capa protetora, o lençol branco não chegou. Além disso a capa protetora não atendeu as minhas expectativas.\n",
      "- prazo longo demais e ainda não chegou.....\n",
      "- Entregue dentro do prazo\n",
      "- O produto que veio nao foi o q comprei\n",
      "- produto entregue normalmente.\n",
      "\n",
      "\n",
      "Comentários nota 3\n",
      "- Demoraram muito pra colocar as coisas no correio\n",
      "- Fiz o pedido de 2 pulseiras, porém só uma delas chegou. A de pedra vulcânica a outra pulseira não chegou.\r",
      " Gostaria de saber se enviaram em pacotes diferentes?\n",
      "- recebi apenas a bota, as taças não foram entregues.\n",
      "- Colocando a capa contra a luz, vejo que ela tem uma parte sem a tinta, não sei se eh apenas estético ou se isso irá deixar passar água \n",
      "- Não usei ainda mais entrega rápida \n",
      "- O produto chegou com a caixa amaçada... Como se tivessem colocado algo em cima dela. No entanto, sem avarias, mas negligência com o produto.\n",
      "- Boa Tarde . Comprei uma Máquina de cortar cabelo com SEIS pentes, recebi uma máquina com QUATRO pentes. O atendimento foi rápido. Entrega ANTECIPADA. Apenas uma falha, eu espero. \n",
      "- Foi falado que houve problemas na entrega mas não falava o que e nem como seria resolvido. Me causou uma preocupação e frustração desnecessária já que o mesmo chegou antes do prazo estipulado. \n",
      "\n",
      "\n",
      "Comentários nota 4\n",
      "- Bom\n",
      "- Superou minhas expectativas o produto. Boa qualidade. E entregaram antes do prazo.\n",
      "- Chegou até antes do previsto , só não gostei pq a peça parecia maior no anúncio.\n",
      "- Bom produto e chegou dentro do prazo!\n",
      "- Recebi o produto antes do prazo, porém em cima fica dobrando um pouco. \n",
      "- Produto conforme esperado.\n",
      "- Valor frete elevado \n",
      "- gerou um stress porque recebi um e-mail para eu entrasse em contato com o parceiro e não vocês resolverem dizendo os correios informaram as lojas lannister que o produto não havia chego para entrega\n",
      "\n",
      "\n",
      "Comentários nota 5\n",
      "- Produto correto e bem embalado. Chegou antes do prazo previsto. Recomendo!\n",
      "- Adorei comprar minhas lentes pela internet pela rapidez da entrega e também pelo preço bem mais barato do que o disponível na minha cidade. Veio com nota, tudo certo! \n",
      "- Gostei muito do produto. Chegou bem embalado e dentro do prazo. \n",
      "- Ainda não testei todas as funcionalidades do produto, mas aparentemente tudo está de acordo, vou testar e posteriormente concluo. \r",
      " O relógio foi entregue em tempo recorde.\n",
      "- ótima\n",
      "- Boa qualidade do material e da impressão. Demora na entrega.\n",
      "- Gostei muito, a entrega foi pontual e material veio certo.\n",
      "- Entrega antes do prazo indicado \n",
      "\n",
      "\n"
     ]
    }
   ],
   "source": [
    "aux_df = reviews.loc[~(reviews['review_comment_message'].isna())&(reviews['review_comment_message'] != '')]\n",
    "aux_df = aux_df.sample(frac=1)\n",
    "for i in range(5):\n",
    "    print('Comentários nota',i+1)\n",
    "    for comment in aux_df.loc[aux_df['review_score'] == i+1]['review_comment_message'].iloc[:8].values:\n",
    "        print('-',' '.join(comment.split('\\n')))\n",
    "    print('\\n')"
   ]
  },
  {
   "cell_type": "markdown",
   "id": "191fd8f8",
   "metadata": {},
   "source": [
    "Percebe-se, até certo ponto, que **atrasos**, **quantidades erradas** e **itens errados** são fatores relacionados com avaliações ruins. Vale notar que, a partir dos dados disponíveis, não conseguimos extrair informações sobre a quantidade e os produtos enviados, ainda que essas sejam reclamações constantes em pedidos mal avaliados.\n",
    "\n",
    "Por outro lado, **entrega antes do prazo**, **boa qualidade do produto** e **boa embalagem** estão relacionados com avaliações boas.\n",
    "\n",
    "### 3.1 Análise da relação atraso-avaliação \n",
    "\n",
    "Com os dados que possuímos, podemos fazer uma análise sobre a relação entre a ocorrência de atraso e a avaliação e também investigar, até certo ponto, se a causa do atraso pode ter sido a demora do cliente da Olist em postar o produto para que se prosseguisse com a entrega.\n",
    "\n",
    "Para a análise, será criado um dataframe unindo as tabelas de pedidos e reviews dos pedidos, e as datas serão transformadas de strings para o formato datetime. Serão criadas, então, duas features:\n",
    "\n",
    "- *delivery_delay*: indica o atraso em dias na entrega\n",
    "- *delayed*: indica a ocorrência de atraso"
   ]
  },
  {
   "cell_type": "code",
   "execution_count": 8,
   "id": "8b4671e4",
   "metadata": {
    "scrolled": true
   },
   "outputs": [
    {
     "data": {
      "text/plain": [
       "Index(['order_id', 'customer_id', 'order_status', 'order_purchase_timestamp',\n",
       "       'order_approved_at', 'order_delivered_carrier_date',\n",
       "       'order_delivered_customer_date', 'order_estimated_delivery_date',\n",
       "       'review_id', 'review_score', 'review_comment_title',\n",
       "       'review_comment_message', 'review_creation_date',\n",
       "       'review_answer_timestamp'],\n",
       "      dtype='object')"
      ]
     },
     "execution_count": 8,
     "metadata": {},
     "output_type": "execute_result"
    }
   ],
   "source": [
    "ra_df = orders.merge(reviews,on='order_id')\n",
    "ra_df = ra_df.loc[ra_df['order_status'] == 'delivered']\n",
    "ra_df.columns"
   ]
  },
  {
   "cell_type": "code",
   "execution_count": 9,
   "id": "bd996482",
   "metadata": {},
   "outputs": [],
   "source": [
    "ra_df = orders.merge(reviews,on='order_id')\n",
    "date_columns = ['order_purchase_timestamp','order_approved_at','order_delivered_carrier_date','order_delivered_customer_date',\n",
    "                'order_estimated_delivery_date']\n",
    "\n",
    "for col in date_columns:\n",
    "    ra_df[col] = pd.to_datetime(ra_df[col])"
   ]
  },
  {
   "cell_type": "code",
   "execution_count": 10,
   "id": "df4acf36",
   "metadata": {},
   "outputs": [],
   "source": [
    "ra_df['delivery_delay'] = (ra_df['order_delivered_customer_date'] - ra_df['order_estimated_delivery_date']).dt.floor('d').dt.days\n",
    "ra_df['delayed'] = ra_df['delivery_delay'].apply(lambda x: 'ATRASADO' if x > 0 else 'NAO ATRASADO')"
   ]
  },
  {
   "cell_type": "code",
   "execution_count": 11,
   "id": "7ba6a877",
   "metadata": {},
   "outputs": [
    {
     "data": {
      "image/png": "[encoded data removed]",
      "text/plain": [
       "<Figure size 640x480 with 1 Axes>"
      ]
     },
     "metadata": {},
     "output_type": "display_data"
    }
   ],
   "source": [
    "countplot2(ra_df,'delayed',cat=True)"
   ]
  },
  {
   "cell_type": "code",
   "execution_count": 12,
   "id": "c075c4c9",
   "metadata": {
    "scrolled": false
   },
   "outputs": [
    {
     "data": {
      "text/plain": [
       "count    96359.000000\n",
       "mean       -11.917797\n",
       "std         10.114024\n",
       "min       -147.000000\n",
       "25%        -17.000000\n",
       "50%        -12.000000\n",
       "75%         -7.000000\n",
       "max        188.000000\n",
       "Name: delivery_delay, dtype: float64"
      ]
     },
     "execution_count": 12,
     "metadata": {},
     "output_type": "execute_result"
    },
    {
     "data": {
      "image/png": "[encoded data removed]",
      "text/plain": [
       "<Figure size 640x480 with 1 Axes>"
      ]
     },
     "metadata": {},
     "output_type": "display_data"
    }
   ],
   "source": [
    "countplot2(ra_df,'delivery_delay',hist=True,binwidth=4,annot=False)\n",
    "plt.axvline(x=0,color='tab:orange',linewidth=1,alpha=0.55)\n",
    "ra_df['delivery_delay'].describe()"
   ]
  },
  {
   "cell_type": "markdown",
   "id": "c27070e0",
   "metadata": {},
   "source": [
    "Apenas 6,5% dos pedidos sofreram atraso na entrega, e, em média, os pedidos são entregues cerca de 12 dias antes do prazo informado ao cliente no ato da compra.\n",
    "\n",
    "Utilizando a feature *delayed*, iremos avaliar a distribuição de notas entre os pedidos entregues no prazo e os pedidos atrasados."
   ]
  },
  {
   "cell_type": "code",
   "execution_count": 46,
   "id": "123cad98",
   "metadata": {
    "scrolled": false
   },
   "outputs": [
    {
     "data": {
      "image/png": "[encoded data removed]",
      "text/plain": [
       "<Figure size 1000x600 with 2 Axes>"
      ]
     },
     "metadata": {},
     "output_type": "display_data"
    }
   ],
   "source": [
    "kde_1d(ra_df,'review_score','delayed',discrete=True,binwidth=0.8)"
   ]
  },
  {
   "cell_type": "markdown",
   "id": "67616364",
   "metadata": {},
   "source": [
    "Nota-se que a avaliação média dos pedidos entregues com atraso é consideravelmente menor do que a dos produtos entregues no prazo. Percebe-se, também um aumento da proporção de pedidos atrasados conforme se diminui a nota da avaliação. Isso será melhor visualizado abaixo."
   ]
  },
  {
   "cell_type": "code",
   "execution_count": 14,
   "id": "5af4302a",
   "metadata": {
    "scrolled": false
   },
   "outputs": [
    {
     "data": {
      "text/html": [
       "<div>\n",
       "<style scoped>\n",
       "    .dataframe tbody tr th:only-of-type {\n",
       "        vertical-align: middle;\n",
       "    }\n",
       "\n",
       "    .dataframe tbody tr th {\n",
       "        vertical-align: top;\n",
       "    }\n",
       "\n",
       "    .dataframe thead th {\n",
       "        text-align: right;\n",
       "    }\n",
       "</style>\n",
       "<table border=\"1\" class=\"dataframe\">\n",
       "  <thead>\n",
       "    <tr style=\"text-align: right;\">\n",
       "      <th></th>\n",
       "      <th>5</th>\n",
       "      <th>4</th>\n",
       "      <th>1</th>\n",
       "      <th>3</th>\n",
       "      <th>2</th>\n",
       "    </tr>\n",
       "  </thead>\n",
       "  <tbody>\n",
       "    <tr>\n",
       "      <th>total</th>\n",
       "      <td>0.577763</td>\n",
       "      <td>0.192917</td>\n",
       "      <td>0.115133</td>\n",
       "      <td>0.08243</td>\n",
       "      <td>0.031756</td>\n",
       "    </tr>\n",
       "  </tbody>\n",
       "</table>\n",
       "</div>"
      ],
      "text/plain": [
       "              5         4         1        3         2\n",
       "total  0.577763  0.192917  0.115133  0.08243  0.031756"
      ]
     },
     "metadata": {},
     "output_type": "display_data"
    },
    {
     "data": {
      "text/html": [
       "<div>\n",
       "<style scoped>\n",
       "    .dataframe tbody tr th:only-of-type {\n",
       "        vertical-align: middle;\n",
       "    }\n",
       "\n",
       "    .dataframe tbody tr th {\n",
       "        vertical-align: top;\n",
       "    }\n",
       "\n",
       "    .dataframe thead th {\n",
       "        text-align: right;\n",
       "    }\n",
       "</style>\n",
       "<table border=\"1\" class=\"dataframe\">\n",
       "  <thead>\n",
       "    <tr style=\"text-align: right;\">\n",
       "      <th></th>\n",
       "      <th>review_score 1</th>\n",
       "      <th>review_score 2</th>\n",
       "      <th>review_score 3</th>\n",
       "      <th>review_score 4</th>\n",
       "      <th>review_score 5</th>\n",
       "    </tr>\n",
       "  </thead>\n",
       "  <tbody>\n",
       "    <tr>\n",
       "      <th>ATRASADO</th>\n",
       "      <td>0.301471</td>\n",
       "      <td>0.176452</td>\n",
       "      <td>0.085341</td>\n",
       "      <td>0.034061</td>\n",
       "      <td>0.01849</td>\n",
       "    </tr>\n",
       "    <tr>\n",
       "      <th>NAO ATRASADO</th>\n",
       "      <td>0.698529</td>\n",
       "      <td>0.823548</td>\n",
       "      <td>0.914659</td>\n",
       "      <td>0.965939</td>\n",
       "      <td>0.98151</td>\n",
       "    </tr>\n",
       "  </tbody>\n",
       "</table>\n",
       "</div>"
      ],
      "text/plain": [
       "              review_score 1  review_score 2  review_score 3  review_score 4  \\\n",
       "ATRASADO            0.301471        0.176452        0.085341        0.034061   \n",
       "NAO ATRASADO        0.698529        0.823548        0.914659        0.965939   \n",
       "\n",
       "              review_score 5  \n",
       "ATRASADO             0.01849  \n",
       "NAO ATRASADO         0.98151  "
      ]
     },
     "metadata": {},
     "output_type": "display_data"
    },
    {
     "data": {
      "image/png": "[encoded data removed]",
      "text/plain": [
       "<Figure size 640x480 with 1 Axes>"
      ]
     },
     "metadata": {},
     "output_type": "display_data"
    }
   ],
   "source": [
    "bar_plot(ra_df.sort_values(by='review_score'),'review_score','delayed',\"ATRASADO\",'atraso')"
   ]
  },
  {
   "cell_type": "markdown",
   "id": "734af79e",
   "metadata": {},
   "source": [
    "A hipótese levantada anteriormente se confirma, há um aumento significativo da proporção de entregas atrasadas conforme a nota da avaliação diminui.\n",
    "\n",
    "#### 3.1.1. Análise da causa do atraso\n",
    "\n",
    "No modelo logístico proposto pela Olist, o estoque é responsabilidade do vendedor, que deve encaminhar o produto a Olist para que a entrega seja feita. Portanto, é possível que um atraso no encaminhamento do produto à Olist resulte em um atraso na entrega para o consumidor final. Diante disso, é importante avaliar a proporção de entregas atrasadas por conta de atrasos no encaminhamento e, posteriormente, verificar se alguns clientes em específico possuem taxas maiores de atraso.\n",
    "\n",
    "Para essa análise será criado um dataframe unindo o dataframe criado anteriormente e a tabela *order_items*, comparando a data limite para encaminhamento e data em que o encaminhamento ocorreu."
   ]
  },
  {
   "cell_type": "code",
   "execution_count": 16,
   "id": "6a33f734",
   "metadata": {},
   "outputs": [],
   "source": [
    "dc_df = ra_df.merge(items,on='order_id')\n",
    "dc_df['shipping_limit_date'] = pd.to_datetime(dc_df['shipping_limit_date'])\n",
    "dc_gb_df = pd.pivot_table(dc_df[['order_id','shipping_limit_date','order_delivered_carrier_date','delivery_delay','delayed']],index='order_id',aggfunc=['max'])\n",
    "cols = []\n",
    "for col in dc_gb_df.columns:\n",
    "    cols.append(col[1])\n",
    "dc_gb_df.columns = cols\n",
    "dc_gb_df['delivery_delayed'] = dc_gb_df['delayed'].apply(lambda x: x == 'ATRASADO')\n",
    "dc_gb_df['shipping_delay'] = dc_gb_df['order_delivered_carrier_date'] - dc_gb_df['shipping_limit_date'] \n",
    "dc_gb_df['shipping_delayed'] = dc_gb_df['shipping_delay'].apply(lambda x: x.total_seconds() > 0)"
   ]
  },
  {
   "cell_type": "code",
   "execution_count": 17,
   "id": "2a2dd274",
   "metadata": {},
   "outputs": [
    {
     "data": {
      "image/png": "[encoded data removed]",
      "text/plain": [
       "<Figure size 640x480 with 1 Axes>"
      ]
     },
     "metadata": {},
     "output_type": "display_data"
    }
   ],
   "source": [
    "stacked_plot(dc_gb_df,'shipping_delayed','delivery_delayed',loc='lower center')"
   ]
  },
  {
   "cell_type": "code",
   "execution_count": 18,
   "id": "09d50e59",
   "metadata": {
    "scrolled": false
   },
   "outputs": [
    {
     "data": {
      "text/html": [
       "<div>\n",
       "<style scoped>\n",
       "    .dataframe tbody tr th:only-of-type {\n",
       "        vertical-align: middle;\n",
       "    }\n",
       "\n",
       "    .dataframe tbody tr th {\n",
       "        vertical-align: top;\n",
       "    }\n",
       "\n",
       "    .dataframe thead th {\n",
       "        text-align: right;\n",
       "    }\n",
       "</style>\n",
       "<table border=\"1\" class=\"dataframe\">\n",
       "  <thead>\n",
       "    <tr style=\"text-align: right;\">\n",
       "      <th></th>\n",
       "      <th>shipping_delayed</th>\n",
       "      <th>delivery_delayed</th>\n",
       "    </tr>\n",
       "  </thead>\n",
       "  <tbody>\n",
       "    <tr>\n",
       "      <th>shipping_delayed</th>\n",
       "      <td>1.000000</td>\n",
       "      <td>0.173787</td>\n",
       "    </tr>\n",
       "    <tr>\n",
       "      <th>delivery_delayed</th>\n",
       "      <td>0.173787</td>\n",
       "      <td>1.000000</td>\n",
       "    </tr>\n",
       "  </tbody>\n",
       "</table>\n",
       "</div>"
      ],
      "text/plain": [
       "                  shipping_delayed  delivery_delayed\n",
       "shipping_delayed          1.000000          0.173787\n",
       "delivery_delayed          0.173787          1.000000"
      ]
     },
     "execution_count": 18,
     "metadata": {},
     "output_type": "execute_result"
    }
   ],
   "source": [
    "dc_gb_df[['shipping_delayed','delivery_delayed']].corr()"
   ]
  },
  {
   "cell_type": "markdown",
   "id": "0da80a07",
   "metadata": {},
   "source": [
    "Verifica-se que a proporção de atrasos no encaminho é consideravelmente maior nos pedidos que foram entregues com atraso ao consumidor final, de modo que existe uma correlação de 0.174, que pode ser considerada pequena, entre o atraso na entrega e o atraso no encaminhamento. \n",
    "\n",
    "Assim, pode-se considerar que garantir que o encaminhamento seja feito dentro do prazo estipulado pode reduzir a taxa de atrasos na entrega, porém os parceiros logísticos da Olist e o processo no geral também podem ser reavaliados para garantir uma menor ocorrência de atrasos.\n",
    "\n",
    "### 3.2 Análise das categorias de produtos\n",
    "\n",
    "Nesta seção será analisada a relação entre as diferentes categorias de produtos e a avaliação dos clientes.\n",
    "\n",
    "Para isso, será criado um dataframe que resume as as diferentes categorias de produtos em categorias agregadas e algumas métricas. Vale notar que, para efeitos de análise, serão desconsiderados pedidos compostos por 2 ou mais produtos diferentes, uma vez que não é possível avaliar a qual item do pedido a avaliação se refere.\n"
   ]
  },
  {
   "cell_type": "code",
   "execution_count": 19,
   "id": "a8175e42",
   "metadata": {
    "scrolled": true
   },
   "outputs": [
    {
     "data": {
      "text/plain": [
       "74"
      ]
     },
     "execution_count": 19,
     "metadata": {},
     "output_type": "execute_result"
    }
   ],
   "source": [
    "len(products['product_category_name'].unique())"
   ]
  },
  {
   "cell_type": "markdown",
   "id": "ee284fbd",
   "metadata": {},
   "source": [
    "Originalmente, o dataset conta com 74 categorias de produtos. Para facilitar a análise, essas categorias serão resumidas em 9."
   ]
  },
  {
   "cell_type": "code",
   "execution_count": 21,
   "id": "f4f916e4",
   "metadata": {},
   "outputs": [],
   "source": [
    "pa_df = items.merge(orders,on='order_id')\n",
    "pa_df = pa_df.merge(products,on='product_id')\n",
    "pa_df = pa_df.merge(reviews,on='order_id')\n",
    "\n",
    "aux_df = pd.pivot_table(pa_df,index='order_id',aggfunc={'product_id': 'count'})\n",
    "valid_index = aux_df.loc[aux_df['product_id'] == 1].index\n",
    "\n",
    "pa_df = pa_df.dropna(subset='product_category_name')\n",
    "pa_df = pa_df.loc[pa_df['order_id'].isin(valid_index)]"
   ]
  },
  {
   "cell_type": "code",
   "execution_count": 24,
   "id": "fd78afd6",
   "metadata": {},
   "outputs": [],
   "source": [
    "cats = products['product_category_name'].unique()\n",
    "\n",
    "agg_kw = {'casa': ['cama','mesa','banho','casa','domest','moveis','jardim','cozinha','construção'],\n",
    "           'farmacia_beleza': ['perfum','bebes','higie','frald','belez'],\n",
    "           'vestuario': ['fashion','roupa','relog'],\n",
    "           'comida': ['alim'],\n",
    "           'tech': ['inform','eletr','telef','foto','games','pc','dvd','tablet','climat'],\n",
    "           'livros': ['livro'],\n",
    "            'lazer': ['music','artes','flor','brinq','lazer'],\n",
    "          'utilidades': ['ferram','papel','auto','pet']}\n",
    "\n",
    "agg_dict = {}\n",
    "\n",
    "for cat in cats:\n",
    "    if not(pd.isna(cat)):\n",
    "        flag = True\n",
    "        for key in agg_kw.keys():\n",
    "            if flag:\n",
    "                for kw in agg_kw[key]:\n",
    "                    if kw in cat:\n",
    "                        agg_dict[cat] = key\n",
    "                        flag = False\n",
    "                        break\n",
    "        if flag:\n",
    "            agg_dict[cat] = 'other'\n",
    "\n",
    "pa_df['product_dept'] = pa_df['product_category_name'].map(agg_dict)"
   ]
  },
  {
   "cell_type": "code",
   "execution_count": 25,
   "id": "c690e9ad",
   "metadata": {
    "scrolled": false
   },
   "outputs": [
    {
     "data": {
      "image/png": "[encoded data removed]",
      "text/plain": [
       "<Figure size 640x480 with 1 Axes>"
      ]
     },
     "metadata": {},
     "output_type": "display_data"
    }
   ],
   "source": [
    "target(pa_df,'product_dept',rotation=90)"
   ]
  },
  {
   "cell_type": "markdown",
   "id": "ea5258f1",
   "metadata": {},
   "source": [
    "Verifica-se que a categoria mais comum é a de itens para casa (28,1%), seguida do setor de tecnologia (16,6%) e do setor de farmácia e beleza (15,7%).\n",
    "\n",
    "Para avaliar as diferenças entre as categorias, serão utilizadas calculadas algumas métricas relacionadas com preço médio, avaliação, etc."
   ]
  },
  {
   "cell_type": "code",
   "execution_count": 26,
   "id": "e082c69d",
   "metadata": {},
   "outputs": [],
   "source": [
    "pa_df['delivery_delay'] = (pa_df['order_delivered_customer_date'] - pa_df['order_estimated_delivery_date']).dt.floor('d').dt.days\n",
    "pa_df['delayed'] = pa_df['delivery_delay'].apply(lambda x: x > 0)"
   ]
  },
  {
   "cell_type": "code",
   "execution_count": 27,
   "id": "5b73d8bc",
   "metadata": {},
   "outputs": [],
   "source": [
    "aggfunc = {'order_id': ['count',lambda x: len(x.unique())],\n",
    "           'delayed': 'sum',\n",
    "           'review_score': ['mean','min','max',np.std],\n",
    "           'price': ['mean','min','max',np.std,'sum']\n",
    "    \n",
    "}\n",
    "\n",
    "aggfunc_names = ['total_delayed','total_unique_orders','total_items','max_price','avg_price',\n",
    "                 'min_price','std_price','total_revenue','max_review_score','mean_review_score',\n",
    "                 'min_review_score','stdev_review_score']\n",
    "\n",
    "pa_gb_df = pd.pivot_table(pa_df,index='product_dept',aggfunc=aggfunc)\n",
    "pa_gb_df.columns = aggfunc_names\n",
    "pa_gb_df = pa_gb_df.reset_index()"
   ]
  },
  {
   "cell_type": "code",
   "execution_count": 28,
   "id": "baa331f6",
   "metadata": {},
   "outputs": [],
   "source": [
    "pa_gb_df['delay_rate'] = pa_gb_df['total_delayed']/pa_gb_df['total_items']\n",
    "pa_gb_df['sales_qty_rate'] = pa_gb_df['total_items']/sum(pa_gb_df['total_items'])\n",
    "pa_gb_df['revenue_rate'] = pa_gb_df['total_revenue']/sum(pa_gb_df['total_revenue'])"
   ]
  },
  {
   "cell_type": "markdown",
   "id": "10f9201f",
   "metadata": {},
   "source": [
    "A tabela abaixo apresenta algumas métricas sobre as categorias agregadas e está ordenada do setor de maior receita para o setor de menor receita."
   ]
  },
  {
   "cell_type": "code",
   "execution_count": 29,
   "id": "7c165f5b",
   "metadata": {
    "scrolled": false
   },
   "outputs": [
    {
     "data": {
      "text/html": [
       "<div>\n",
       "<style scoped>\n",
       "    .dataframe tbody tr th:only-of-type {\n",
       "        vertical-align: middle;\n",
       "    }\n",
       "\n",
       "    .dataframe tbody tr th {\n",
       "        vertical-align: top;\n",
       "    }\n",
       "\n",
       "    .dataframe thead th {\n",
       "        text-align: right;\n",
       "    }\n",
       "</style>\n",
       "<table border=\"1\" class=\"dataframe\">\n",
       "  <thead>\n",
       "    <tr style=\"text-align: right;\">\n",
       "      <th></th>\n",
       "      <th>product_dept</th>\n",
       "      <th>sales_qty_rate</th>\n",
       "      <th>revenue_rate</th>\n",
       "      <th>avg_price</th>\n",
       "      <th>mean_review_score</th>\n",
       "      <th>delay_rate</th>\n",
       "    </tr>\n",
       "  </thead>\n",
       "  <tbody>\n",
       "    <tr>\n",
       "      <th>0</th>\n",
       "      <td>casa</td>\n",
       "      <td>0.281322</td>\n",
       "      <td>0.249914</td>\n",
       "      <td>115.856844</td>\n",
       "      <td>4.123628</td>\n",
       "      <td>0.067938</td>\n",
       "    </tr>\n",
       "    <tr>\n",
       "      <th>2</th>\n",
       "      <td>farmacia_beleza</td>\n",
       "      <td>0.157478</td>\n",
       "      <td>0.165474</td>\n",
       "      <td>137.038963</td>\n",
       "      <td>4.195595</td>\n",
       "      <td>0.073568</td>\n",
       "    </tr>\n",
       "    <tr>\n",
       "      <th>6</th>\n",
       "      <td>tech</td>\n",
       "      <td>0.166000</td>\n",
       "      <td>0.149163</td>\n",
       "      <td>117.189393</td>\n",
       "      <td>4.100439</td>\n",
       "      <td>0.064846</td>\n",
       "    </tr>\n",
       "    <tr>\n",
       "      <th>3</th>\n",
       "      <td>lazer</td>\n",
       "      <td>0.130827</td>\n",
       "      <td>0.132372</td>\n",
       "      <td>131.957262</td>\n",
       "      <td>4.222713</td>\n",
       "      <td>0.064693</td>\n",
       "    </tr>\n",
       "    <tr>\n",
       "      <th>8</th>\n",
       "      <td>vestuario</td>\n",
       "      <td>0.086035</td>\n",
       "      <td>0.115609</td>\n",
       "      <td>175.246299</td>\n",
       "      <td>4.134256</td>\n",
       "      <td>0.067195</td>\n",
       "    </tr>\n",
       "    <tr>\n",
       "      <th>7</th>\n",
       "      <td>utilidades</td>\n",
       "      <td>0.095308</td>\n",
       "      <td>0.096726</td>\n",
       "      <td>132.357019</td>\n",
       "      <td>4.205022</td>\n",
       "      <td>0.064904</td>\n",
       "    </tr>\n",
       "    <tr>\n",
       "      <th>5</th>\n",
       "      <td>other</td>\n",
       "      <td>0.067385</td>\n",
       "      <td>0.081877</td>\n",
       "      <td>158.465173</td>\n",
       "      <td>4.212766</td>\n",
       "      <td>0.057824</td>\n",
       "    </tr>\n",
       "    <tr>\n",
       "      <th>4</th>\n",
       "      <td>livros</td>\n",
       "      <td>0.008799</td>\n",
       "      <td>0.005602</td>\n",
       "      <td>83.037884</td>\n",
       "      <td>4.463863</td>\n",
       "      <td>0.068331</td>\n",
       "    </tr>\n",
       "    <tr>\n",
       "      <th>1</th>\n",
       "      <td>comida</td>\n",
       "      <td>0.006845</td>\n",
       "      <td>0.003262</td>\n",
       "      <td>62.148277</td>\n",
       "      <td>4.332770</td>\n",
       "      <td>0.059122</td>\n",
       "    </tr>\n",
       "  </tbody>\n",
       "</table>\n",
       "</div>"
      ],
      "text/plain": [
       "      product_dept  sales_qty_rate  revenue_rate   avg_price  \\\n",
       "0             casa        0.281322      0.249914  115.856844   \n",
       "2  farmacia_beleza        0.157478      0.165474  137.038963   \n",
       "6             tech        0.166000      0.149163  117.189393   \n",
       "3            lazer        0.130827      0.132372  131.957262   \n",
       "8        vestuario        0.086035      0.115609  175.246299   \n",
       "7       utilidades        0.095308      0.096726  132.357019   \n",
       "5            other        0.067385      0.081877  158.465173   \n",
       "4           livros        0.008799      0.005602   83.037884   \n",
       "1           comida        0.006845      0.003262   62.148277   \n",
       "\n",
       "   mean_review_score  delay_rate  \n",
       "0           4.123628    0.067938  \n",
       "2           4.195595    0.073568  \n",
       "6           4.100439    0.064846  \n",
       "3           4.222713    0.064693  \n",
       "8           4.134256    0.067195  \n",
       "7           4.205022    0.064904  \n",
       "5           4.212766    0.057824  \n",
       "4           4.463863    0.068331  \n",
       "1           4.332770    0.059122  "
      ]
     },
     "execution_count": 29,
     "metadata": {},
     "output_type": "execute_result"
    }
   ],
   "source": [
    "pa_gb_df.sort_values(by='revenue_rate',ascending=False)[['product_dept','sales_qty_rate','revenue_rate','avg_price','mean_review_score','delay_rate']]\n"
   ]
  },
  {
   "cell_type": "markdown",
   "id": "01a00d15",
   "metadata": {},
   "source": [
    "O setor de *casa* representa cerca de 1/4 da receita total no dataset analisado e apresenta a segunda pior média de avaliações entre as categorias avalidas. \n",
    "\n",
    "O setor de *farmácia e beleza*, responsável por aproximadamente 16,5% da receita, possui uma avaliação média abaixo da média e a maior taxa de atrasos em entregas.\n",
    "\n",
    "O setor de *tech*, com quase 15% da receita, possui a pior média de avaliação de todas.\n",
    "\n",
    "Vale notar, também, que os setores de livros e comida apresentam as duas maiores média de avaliação, ainda que não representem, somadas, nem 1% da receita total.\n",
    "\n",
    "Em resumo, as 3 categorias mais \"importantes\" somadas representam mais de 50% da receita total dentre os dados do dataset, tendo, as 3, avaliações médias abaixo da média de todo o dataset. Isso pode indicar, em tese, que esforços para melhorar a qualidade dos produtos desses setores, minimizar a taxa de atrasos e garantir um bom atendimento ao consumidor podem ter grande impacto na receita dos clientes e, por conseguinte, na receita da Olist."
   ]
  },
  {
   "cell_type": "markdown",
   "id": "241403a7",
   "metadata": {},
   "source": [
    "## 4. Análise dos clientes\n",
    "\n",
    "Neste passo da análise o foco será entender os clientes da Olist, ou seja, os empreendedores parceiros da Olist.\n",
    "\n",
    "Para isso será criado um dataframe unindo as tabelas *orders*, *items*, *reviews*, *produtos* e *sellers*. Serão aproveitadas, ainda, as features criadas na análise anterior."
   ]
  },
  {
   "cell_type": "code",
   "execution_count": 30,
   "id": "5832b122",
   "metadata": {},
   "outputs": [
    {
     "data": {
      "text/plain": [
       "3095"
      ]
     },
     "execution_count": 30,
     "metadata": {},
     "output_type": "execute_result"
    }
   ],
   "source": [
    "len(sellers['seller_id'].unique())"
   ]
  },
  {
   "cell_type": "markdown",
   "id": "4104c6d2",
   "metadata": {},
   "source": [
    "O dataset conta com 3095 clientes.\n",
    "\n",
    "Vale notar que os reviews estão atrelados ao pedido como um todo, e não a cada um dos itens comprados. Dessa forma, caso um pedido tenha mais de um vendedor atrelado não será fácil entender sobre qual produto a nota e o comentário da avaliação estão associados. Os pedidos com mais de um vendedor serão desconsiderados na análise."
   ]
  },
  {
   "cell_type": "code",
   "execution_count": 33,
   "id": "b95e051d",
   "metadata": {},
   "outputs": [],
   "source": [
    "sa_df = dc_df.merge(sellers,on='seller_id')\n",
    "sa_df = sa_df.merge(dc_gb_df.reset_index()[['order_id','shipping_delay','shipping_delayed','delivery_delayed']],on='order_id')\n",
    "sa_df = sa_df.merge(products,on='product_id')\n",
    "aux_df = pd.pivot_table(sa_df,index='order_id',aggfunc={'seller_id': lambda x: len(x.unique())})\n",
    "valid_index = aux_df.loc[aux_df['seller_id'] == 1].index\n",
    "\n",
    "sa_df = sa_df.loc[sa_df['order_id'].isin(valid_index)]"
   ]
  },
  {
   "cell_type": "markdown",
   "id": "1910ae17",
   "metadata": {},
   "source": [
    "Os dados serão agregados para cada vendedor, sendo criadas algumas métricas a partir do dataset completo. Posteriormente, as métricas serão agregadas à tabela de vendedores original para manter as informações específicas do vendedor, como sua localização."
   ]
  },
  {
   "cell_type": "code",
   "execution_count": 34,
   "id": "ab391ba6",
   "metadata": {
    "scrolled": true
   },
   "outputs": [],
   "source": [
    "aggfunc = {'price': ['sum','mean'], \n",
    "           'order_id': ['count',lambda x: len(x.unique())],\n",
    "          'delivery_delayed': 'sum',\n",
    "          'shipping_delayed': 'sum',\n",
    "          'review_score': 'mean',\n",
    "           'product_category_name': lambda x: list(x.value_counts().index),\n",
    "           'order_purchase_timestamp': ['min','max']\n",
    "          }\n",
    "\n",
    "aggfunc_names = ['total_delivery_delayed','total_orders','total_items','last_order','first_order','avg_prod_price',\n",
    "                'total_revenue','mcc','mean_review_score','total_shipping_delayed']\n",
    "sa_gb_df = pd.pivot_table(sa_df,index='seller_id',aggfunc=aggfunc)\n",
    "sa_gb_df.columns = aggfunc_names"
   ]
  },
  {
   "cell_type": "code",
   "execution_count": 35,
   "id": "37963213",
   "metadata": {},
   "outputs": [],
   "source": [
    "last_order = sa_df['order_purchase_timestamp'].max()\n",
    "\n",
    "sa_gb_df['delivery_delay_rate'] = sa_gb_df['total_delivery_delayed']/sa_gb_df['total_orders']\n",
    "sa_gb_df['shipping_delay_rate'] = sa_gb_df['total_shipping_delayed']/sa_gb_df['total_orders']\n",
    "sa_gb_df['mean_item_qty'] = sa_gb_df['total_items']/sa_gb_df['total_orders']\n",
    "sa_gb_df['avg_ticket'] = sa_gb_df['total_revenue']/sa_gb_df['total_orders']\n",
    "sa_gb_df['most_common_category'] = sa_gb_df['mcc'].apply(lambda x: x[0] if len(x) > 0 else np.nan)\n",
    "sa_gb_df['first_order_age'] = last_order - sa_gb_df['first_order']\n",
    "sa_gb_df['last_order_age'] = last_order - sa_gb_df['last_order']\n",
    "sa_gb_df['partner_age'] = sa_gb_df['last_order'] - sa_gb_df['first_order']\n",
    "sa_gb_df['order_freq'] = sa_gb_df['total_orders']/sa_gb_df['partner_age'].dt.days"
   ]
  },
  {
   "cell_type": "markdown",
   "id": "ab5432e8",
   "metadata": {},
   "source": [
    "### 4.1. Análise de quantidade de pedidos e receita\n",
    "\n",
    "Um ponto interessante é analisar a distribuição da quantidade de pedidos e da receita entre os clientes."
   ]
  },
  {
   "cell_type": "code",
   "execution_count": 36,
   "id": "a4dd1057",
   "metadata": {
    "scrolled": true
   },
   "outputs": [
    {
     "data": {
      "text/html": [
       "<div>\n",
       "<style scoped>\n",
       "    .dataframe tbody tr th:only-of-type {\n",
       "        vertical-align: middle;\n",
       "    }\n",
       "\n",
       "    .dataframe tbody tr th {\n",
       "        vertical-align: top;\n",
       "    }\n",
       "\n",
       "    .dataframe thead th {\n",
       "        text-align: right;\n",
       "    }\n",
       "</style>\n",
       "<table border=\"1\" class=\"dataframe\">\n",
       "  <thead>\n",
       "    <tr style=\"text-align: right;\">\n",
       "      <th></th>\n",
       "      <th>total_revenue</th>\n",
       "      <th>total_orders</th>\n",
       "    </tr>\n",
       "  </thead>\n",
       "  <tbody>\n",
       "    <tr>\n",
       "      <th>count</th>\n",
       "      <td>3073.000000</td>\n",
       "      <td>3073.000000</td>\n",
       "    </tr>\n",
       "    <tr>\n",
       "      <th>mean</th>\n",
       "      <td>4313.712581</td>\n",
       "      <td>31.452327</td>\n",
       "    </tr>\n",
       "    <tr>\n",
       "      <th>std</th>\n",
       "      <td>13685.548952</td>\n",
       "      <td>102.351215</td>\n",
       "    </tr>\n",
       "    <tr>\n",
       "      <th>min</th>\n",
       "      <td>3.500000</td>\n",
       "      <td>1.000000</td>\n",
       "    </tr>\n",
       "    <tr>\n",
       "      <th>25%</th>\n",
       "      <td>208.350000</td>\n",
       "      <td>2.000000</td>\n",
       "    </tr>\n",
       "    <tr>\n",
       "      <th>50%</th>\n",
       "      <td>810.000000</td>\n",
       "      <td>6.000000</td>\n",
       "    </tr>\n",
       "    <tr>\n",
       "      <th>75%</th>\n",
       "      <td>3248.800000</td>\n",
       "      <td>21.000000</td>\n",
       "    </tr>\n",
       "    <tr>\n",
       "      <th>max</th>\n",
       "      <td>225406.850000</td>\n",
       "      <td>1807.000000</td>\n",
       "    </tr>\n",
       "  </tbody>\n",
       "</table>\n",
       "</div>"
      ],
      "text/plain": [
       "       total_revenue  total_orders\n",
       "count    3073.000000   3073.000000\n",
       "mean     4313.712581     31.452327\n",
       "std     13685.548952    102.351215\n",
       "min         3.500000      1.000000\n",
       "25%       208.350000      2.000000\n",
       "50%       810.000000      6.000000\n",
       "75%      3248.800000     21.000000\n",
       "max    225406.850000   1807.000000"
      ]
     },
     "execution_count": 36,
     "metadata": {},
     "output_type": "execute_result"
    }
   ],
   "source": [
    "sa_gb_df[['total_revenue','total_orders']].describe()"
   ]
  },
  {
   "cell_type": "markdown",
   "id": "438329a2",
   "metadata": {},
   "source": [
    "Mais da metade dos clientes fizeram 6 vendas ou menos, enquanto apenas 25% deles fizeram mais do que 20 vendas pela plataforma. \n",
    "\n",
    "Olhando para a receita, apenas 50% venderam mais do que 715 reais em produtos, enquanto apenas 25% tiveram uma receita acima dos 2814 reais."
   ]
  },
  {
   "cell_type": "code",
   "execution_count": 41,
   "id": "3cefa18c",
   "metadata": {
    "scrolled": true
   },
   "outputs": [
    {
     "name": "stdout",
     "output_type": "stream",
     "text": [
      "O maior cliente representa 1.7% da receita total. Receita do maior cliente: R$225406.85\n",
      "Os 10 maiores clientes representam 13.2% da receita total. Receita média: R$175078.17\n",
      "Os 20 maiores clientes representam 21.2% da receita total. Receita média: R$140484.99\n",
      "Os 50 maiores clientes representam 33.1% da receita total. Receita média: R$87681.55\n",
      "Os 100 maiores clientes representam 45.3% da receita total. Receita média: R$59995.20\n",
      "Os 129 maiores clientes representam 50.1% da receita total. Receita média: R$51469.97\n"
     ]
    }
   ],
   "source": [
    "max_rev = sa_gb_df.sort_values(by='total_revenue',ascending=False)['total_revenue'].iloc[0]\n",
    "total_rev = sum(sa_gb_df['total_revenue'])\n",
    "print('O maior cliente representa {:.1f}% da receita total. Receita do maior cliente: R${:.2f}'.format(max_rev/total_rev*100,max_rev))\n",
    "for i in [10,20,50,100,129]:\n",
    "    aux_df = sa_gb_df.sort_values(by='total_revenue',ascending=False)['total_revenue'].iloc[:i]\n",
    "    \n",
    "    print('Os {} maiores clientes representam {:.1f}% da receita total. Receita média: R${:.2f}'.format(i,(aux_df.cumsum()/sum(sa_gb_df['total_revenue']))[:i][-1]*100,sa_gb_df.sort_values(by='total_revenue',ascending=False)['total_revenue'].iloc[:i].mean()))"
   ]
  },
  {
   "cell_type": "markdown",
   "id": "d27b9765",
   "metadata": {},
   "source": [
    "É interessante ter em mente que apenas 129 clientes, cerca de 4% do total de clientes do dataset, representam metade da receita total da Olist (dentro do dataset). A perda de um dos 125 maiores clientes é, de certo modo, equivalente a perda de cerca de 12 clientes médios. Quando se olha para os 10 maiores, uma única perda representa mais de 1% da receita total, sendo equivalente a quase 40 clientes médios.\n",
    "\n",
    "Isso representa, de certa forma, uma face do risco de negócio da Olist. Caso um ou mais clientes grandes desejem focar em canais de vendas próprios ou decidam firmar parceria com concorrentes da Olist, as perdas podem representar um risco à integridade do negócio. Aumentar a receita média da base de clientes e, de certo modo, minimizar sua variância, sempre com o objetivo de aumentar a receita gerada, podem ser estratégias interessantes para minimizar os efeitos da perda de um grande cliente.\n",
    "\n",
    "### 4.2. Análise de avaliações"
   ]
  },
  {
   "cell_type": "code",
   "execution_count": null,
   "id": "ee23c4d4",
   "metadata": {},
   "outputs": [],
   "source": []
  },
  {
   "cell_type": "markdown",
   "id": "6313872f",
   "metadata": {},
   "source": [
    "### 4.3. Análise da taxa de atrasos \n",
    "\n",
    "## 5. Segmentação geral dos consumidores\n",
    "\n",
    "## 6. Segmentação dos consumidores nos maiores clientes\n",
    "\n",
    "## 7. Análise de retenção de clientes\n",
    "\n",
    "## 8. Conclusão"
   ]
  }
 ],
 "metadata": {
  "kernelspec": {
   "display_name": "Python 3 (ipykernel)",
   "language": "python",
   "name": "python3"
  },
  "language_info": {
   "codemirror_mode": {
    "name": "ipython",
    "version": 3
   },
   "file_extension": ".py",
   "mimetype": "text/x-python",
   "name": "python",
   "nbconvert_exporter": "python",
   "pygments_lexer": "ipython3",
   "version": "3.8.15"
  }
 },
 "nbformat": 4,
 "nbformat_minor": 5
}
